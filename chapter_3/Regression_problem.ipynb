{
 "cells": [
  {
   "cell_type": "code",
   "execution_count": 5,
   "metadata": {
    "collapsed": true
   },
   "outputs": [],
   "source": [
    "import pandas as pd\n",
    "import numpy as np\n",
    "from sklearn import cross_validation\n",
    "from sklearn import svm\n",
    "from sklearn.tree import DecisionTreeRegressor\n",
    "from sklearn.ensemble import RandomForestRegressor\n",
    "from sklearn.linear_model import LinearRegression\n",
    "from sklearn.linear_model import Ridge\n",
    "from sklearn.linear_model import Lasso\n",
    "from sklearn.neighbors import KNeighborsRegressor\n",
    "from sklearn.metrics import mean_squared_error"
   ]
  },
  {
   "cell_type": "code",
   "execution_count": 3,
   "metadata": {
    "collapsed": false
   },
   "outputs": [
    {
     "ename": "SyntaxError",
     "evalue": "Missing parentheses in call to 'print' (<ipython-input-3-383adeaf2c21>, line 8)",
     "output_type": "error",
     "traceback": [
      "\u001b[0;36m  File \u001b[0;32m\"<ipython-input-3-383adeaf2c21>\"\u001b[0;36m, line \u001b[0;32m8\u001b[0m\n\u001b[0;31m    print 'linear regression'\u001b[0m\n\u001b[0m                            ^\u001b[0m\n\u001b[0;31mSyntaxError\u001b[0m\u001b[0;31m:\u001b[0m Missing parentheses in call to 'print'\n"
     ]
    }
   ],
   "source": [
    "df = pd.read_csv('housing.csv',sep=',',header=None)\n",
    "#shuffle the data\n",
    "df = df.iloc[np.random.permutation(len(df))]\n",
    "X= df[df.columns[:-1]].values\n",
    "Y = df[df.columns[-1]].values\n",
    "\n",
    "cv = 10\n",
    "print 'linear regression'\n",
    "lin = LinearRegression()\n",
    "scores = cross_validation.cross_val_score(lin, X, Y, cv=cv)\n",
    "print(\"mean R2: %0.2f (+/- %0.2f)\" % (scores.mean(), scores.std() * 2))\n",
    "predicted = cross_validation.cross_val_predict(lin, X,Y, cv=cv)\n",
    "print 'MSE:',mean_squared_error(Y,predicted)\n",
    "\n",
    "print 'ridge regression'\n",
    "ridge = Ridge(alpha=1.0)\n",
    "scores = cross_validation.cross_val_score(ridge, X, Y, cv=cv)\n",
    "print(\"mean R2: %0.2f (+/- %0.2f)\" % (scores.mean(), scores.std() * 2))\n",
    "predicted = cross_validation.cross_val_predict(ridge, X,Y, cv=cv)\n",
    "print 'MSE:',mean_squared_error(Y,predicted)\n",
    "\n",
    "print 'lasso regression'\n",
    "lasso = Lasso(alpha=0.1)\n",
    "scores = cross_validation.cross_val_score(lasso, X, Y, cv=cv)\n",
    "print(\"mean R2: %0.2f (+/- %0.2f)\" % (scores.mean(), scores.std() * 2))\n",
    "predicted = cross_validation.cross_val_predict(lasso, X,Y, cv=cv)\n",
    "print 'MSE:',mean_squared_error(Y,predicted)\n",
    "\n",
    "print 'decision tree regression'\n",
    "tree = DecisionTreeRegressor(random_state=0)\n",
    "scores = cross_validation.cross_val_score(tree, X, Y, cv=cv)\n",
    "print(\"mean R2: %0.2f (+/- %0.2f)\" % (scores.mean(), scores.std() * 2))\n",
    "predicted = cross_validation.cross_val_predict(tree, X,Y, cv=cv)\n",
    "print 'MSE:',mean_squared_error(Y,predicted)\n",
    "\n",
    "print 'random forest regression'\n",
    "forest = RandomForestRegressor(n_estimators=50, max_depth=None,min_samples_split=1, \n",
    "                               random_state=0)\n",
    "scores = cross_validation.cross_val_score(forest, X, Y, cv=cv)\n",
    "print(\"mean R2: %0.2f (+/- %0.2f)\" % (scores.mean(), scores.std() * 2))\n",
    "predicted = cross_validation.cross_val_predict(forest, X,Y, cv=cv)\n",
    "print 'MSE:',mean_squared_error(Y,predicted)\n",
    "\n",
    "#svm\n",
    "print 'linear support vector machine'\n",
    "svm_lin = svm.SVR(epsilon=0.2,kernel='linear',C=1)\n",
    "scores = cross_validation.cross_val_score(svm_lin, X, Y, cv=cv)\n",
    "print(\"mean R2: %0.2f (+/- %0.2f)\" % (scores.mean(), scores.std() * 2))\n",
    "predicted = cross_validation.cross_val_predict(svm_lin, X,Y, cv=cv)\n",
    "print 'MSE:',mean_squared_error(Y,predicted)\n",
    "\n",
    "print 'support vector machine rbf'\n",
    "clf = svm.SVR(epsilon=0.2,kernel='rbf',C=1.)\n",
    "scores = cross_validation.cross_val_score(clf, X, Y, cv=cv)\n",
    "print(\"mean R2: %0.2f (+/- %0.2f)\" % (scores.mean(), scores.std() * 2))\n",
    "predicted = cross_validation.cross_val_predict(clf, X,Y, cv=cv)\n",
    "print 'MSE:',mean_squared_error(Y,predicted)\n",
    "\n",
    "print 'knn'\n",
    "knn = KNeighborsRegressor()\n",
    "scores = cross_validation.cross_val_score(knn, X, Y, cv=cv)\n",
    "print(\"mean R2: %0.2f (+/- %0.2f)\" % (scores.mean(), scores.std() * 2))\n",
    "predicted = cross_validation.cross_val_predict(knn, X,Y, cv=cv)\n",
    "print 'MSE:',mean_squared_error(Y,predicted)"
   ]
  },
  {
   "cell_type": "code",
   "execution_count": 4,
   "metadata": {
    "collapsed": false
   },
   "outputs": [
    {
     "ename": "SyntaxError",
     "evalue": "Missing parentheses in call to 'print' (<ipython-input-4-a2ad8f1f9f55>, line 3)",
     "output_type": "error",
     "traceback": [
      "\u001b[0;36m  File \u001b[0;32m\"<ipython-input-4-a2ad8f1f9f55>\"\u001b[0;36m, line \u001b[0;32m3\u001b[0m\n\u001b[0;31m    print 'feature selection on linear regression'\u001b[0m\n\u001b[0m                                                 ^\u001b[0m\n\u001b[0;31mSyntaxError\u001b[0m\u001b[0;31m:\u001b[0m Missing parentheses in call to 'print'\n"
     ]
    }
   ],
   "source": [
    "from sklearn.feature_selection import RFE\n",
    "best_features=4\n",
    "print 'feature selection on linear regression'\n",
    "rfe_lin = RFE(lin,best_features).fit(X,Y)\n",
    "mask = np.array(rfe_lin.support_)\n",
    "scores = cross_validation.cross_val_score(lin, X[:,mask], Y, cv=cv)\n",
    "print(\"R2: %0.2f (+/- %0.2f)\" % (scores.mean(), scores.std() * 2))\n",
    "predicted = cross_validation.cross_val_predict(lin, X[:,mask],Y, cv=cv)\n",
    "print 'MSE:',mean_squared_error(Y,predicted)\n",
    "\n",
    "print 'feature selection ridge regression'\n",
    "rfe_ridge = RFE(ridge,best_features).fit(X,Y)\n",
    "mask = np.array(rfe_ridge.support_)\n",
    "scores = cross_validation.cross_val_score(ridge, X[:,mask], Y, cv=cv)\n",
    "print(\"R2: %0.2f (+/- %0.2f)\" % (scores.mean(), scores.std() * 2))\n",
    "predicted = cross_validation.cross_val_predict(ridge, X[:,mask],Y, cv=cv)\n",
    "print 'MSE:',mean_squared_error(Y,predicted)\n",
    "\n",
    "print 'feature selection on lasso regression'\n",
    "rfe_lasso = RFE(lasso,best_features).fit(X,Y)\n",
    "mask = np.array(rfe_lasso.support_)\n",
    "scores = cross_validation.cross_val_score(lasso, X[:,mask], Y, cv=cv)\n",
    "print(\"R2: %0.2f (+/- %0.2f)\" % (scores.mean(), scores.std() * 2))\n",
    "predicted = cross_validation.cross_val_predict(lasso, X[:,mask],Y, cv=cv)\n",
    "print 'MSE:',mean_squared_error(Y,predicted)\n",
    "\n",
    "print 'feature selection on decision tree'\n",
    "rfe_tree = RFE(tree,best_features).fit(X,Y)\n",
    "mask = np.array(rfe_tree.support_)\n",
    "scores = cross_validation.cross_val_score(tree, X[:,mask], Y, cv=cv)\n",
    "print(\"R2: %0.2f (+/- %0.2f)\" % (scores.mean(), scores.std() * 2))\n",
    "predicted = cross_validation.cross_val_predict(tree, X[:,mask],Y, cv=cv)\n",
    "print 'MSE:',mean_squared_error(Y,predicted)\n",
    "\n",
    "print 'feature selection on random forest'\n",
    "rfe_forest = RFE(forest,best_features).fit(X,Y)\n",
    "mask = np.array(rfe_forest.support_)\n",
    "scores = cross_validation.cross_val_score(forest, X[:,mask], Y, cv=cv)\n",
    "print(\"R2: %0.2f (+/- %0.2f)\" % (scores.mean(), scores.std() * 2))\n",
    "predicted = cross_validation.cross_val_predict(forest, X[:,mask],Y, cv=cv)\n",
    "print 'MSE:',mean_squared_error(Y,predicted)\n",
    "\n",
    "print 'feature selection on linear support vector machine'\n",
    "rfe_svm = RFE(svm_lin,best_features).fit(X,Y)\n",
    "mask = np.array(rfe_svm.support_)\n",
    "scores = cross_validation.cross_val_score(svm_lin, X[:,mask], Y, cv=cv)\n",
    "print(\"R2: %0.2f (+/- %0.2f)\" % (scores.mean(), scores.std() * 2))\n",
    "predicted = cross_validation.cross_val_predict(svm_lin, X,Y, cv=cv)\n",
    "print 'MSE:',mean_squared_error(Y,predicted)"
   ]
  },
  {
   "cell_type": "code",
   "execution_count": null,
   "metadata": {
    "collapsed": true
   },
   "outputs": [],
   "source": []
  },
  {
   "cell_type": "code",
   "execution_count": null,
   "metadata": {
    "collapsed": true
   },
   "outputs": [],
   "source": []
  },
  {
   "cell_type": "code",
   "execution_count": null,
   "metadata": {
    "collapsed": true
   },
   "outputs": [],
   "source": []
  },
  {
   "cell_type": "code",
   "execution_count": null,
   "metadata": {
    "collapsed": true
   },
   "outputs": [],
   "source": []
  },
  {
   "cell_type": "code",
   "execution_count": null,
   "metadata": {
    "collapsed": true
   },
   "outputs": [],
   "source": []
  },
  {
   "cell_type": "code",
   "execution_count": null,
   "metadata": {
    "collapsed": true
   },
   "outputs": [],
   "source": []
  }
 ],
 "metadata": {
  "kernelspec": {
   "display_name": "Python 3",
   "language": "python",
   "name": "python3"
  },
  "language_info": {
   "codemirror_mode": {
    "name": "ipython",
    "version": 3
   },
   "file_extension": ".py",
   "mimetype": "text/x-python",
   "name": "python",
   "nbconvert_exporter": "python",
   "pygments_lexer": "ipython3",
   "version": "3.6.0"
  }
 },
 "nbformat": 4,
 "nbformat_minor": 0
}
